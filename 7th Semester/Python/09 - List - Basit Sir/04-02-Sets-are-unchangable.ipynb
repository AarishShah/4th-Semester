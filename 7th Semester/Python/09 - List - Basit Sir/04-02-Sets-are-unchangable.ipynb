{
 "cells": [
  {
   "cell_type": "code",
   "execution_count": 179,
   "metadata": {},
   "outputs": [
    {
     "name": "stdout",
     "output_type": "stream",
     "text": [
      "(1, 2, 4, 5)\n",
      "{1, 2, 3, (1, 2, 4, 5)}\n",
      "[555, 2, 4, 5]\n",
      "(555, 2, 4, 5)\n",
      "{1, 2, 3, (1, 2, 4, 5), (555, 2, 4, 5)}\n"
     ]
    }
   ],
   "source": [
    "\n",
    "\n",
    "vegetables_tuple = (1,2,4,5)\n",
    "print(vegetables_tuple)\n",
    "\n",
    "set = {1,2,3, vegetables_tuple}\n",
    "print(set)\n",
    "\n",
    "# tuple updation\n",
    "fruits = list(vegetables_tuple)\n",
    "fruits[0] = 555\n",
    "print(fruits)\n",
    "vegetables_tuple = tuple(fruits)\n",
    "print(vegetables_tuple)\n",
    "\n",
    "# adding to set\n",
    "set.add(vegetables_tuple)\n",
    "\n",
    "print(set)"
   ]
  }
 ],
 "metadata": {
  "language_info": {
   "name": "python"
  }
 },
 "nbformat": 4,
 "nbformat_minor": 2
}
