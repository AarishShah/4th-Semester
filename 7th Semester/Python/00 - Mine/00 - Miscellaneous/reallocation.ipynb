{
 "cells": [
  {
   "cell_type": "code",
   "execution_count": 154,
   "metadata": {},
   "outputs": [
    {
     "name": "stdout",
     "output_type": "stream",
     "text": [
      "2844573905024\n",
      "2844573112832\n"
     ]
    }
   ],
   "source": [
    "list1 = [1,2,3]\n",
    "print(id(list1))\n",
    "list1 = [1,2,3]\n",
    "print(id(list1))\n",
    "\n"
   ]
  },
  {
   "cell_type": "code",
   "execution_count": 156,
   "metadata": {},
   "outputs": [
    {
     "name": "stdout",
     "output_type": "stream",
     "text": [
      "Initial size of empty list: 56\n",
      "After appending 0, size: 88\n",
      "2844574593536\n",
      "After appending 1, size: 88\n",
      "2844574593536\n",
      "After appending 2, size: 88\n",
      "2844574593536\n",
      "After appending 3, size: 88\n",
      "2844574593536\n",
      "After appending 4, size: 120\n",
      "2844574593536\n",
      "After appending 5, size: 120\n",
      "2844574593536\n",
      "After appending 6, size: 120\n",
      "2844574593536\n",
      "After appending 7, size: 120\n",
      "2844574593536\n",
      "After appending 8, size: 184\n",
      "2844574593536\n",
      "After appending 9, size: 184\n",
      "2844574593536\n",
      "After appending 10, size: 184\n",
      "2844574593536\n",
      "After appending 11, size: 184\n",
      "2844574593536\n",
      "After appending 12, size: 184\n",
      "2844574593536\n",
      "After appending 13, size: 184\n",
      "2844574593536\n",
      "After appending 14, size: 184\n",
      "2844574593536\n",
      "After appending 15, size: 184\n",
      "2844574593536\n",
      "After appending 16, size: 248\n",
      "2844574593536\n",
      "After appending 17, size: 248\n",
      "2844574593536\n",
      "After appending 18, size: 248\n",
      "2844574593536\n",
      "After appending 19, size: 248\n",
      "2844574593536\n"
     ]
    }
   ],
   "source": [
    "import sys\n",
    "\n",
    "# Create a list\n",
    "my_list = []\n",
    "print(\"Initial size of empty list:\", sys.getsizeof(my_list))\n",
    "\n",
    "# Append elements and observe changes\n",
    "for i in range(20):\n",
    "    my_list.append(i)\n",
    "    print(f\"After appending {i}, size: {sys.getsizeof(my_list)}\")\n",
    "    print(id(my_list))\n"
   ]
  }
 ],
 "metadata": {
  "language_info": {
   "name": "python"
  }
 },
 "nbformat": 4,
 "nbformat_minor": 2
}
